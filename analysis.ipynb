{
 "cells": [
  {
   "cell_type": "code",
   "execution_count": 2,
   "id": "b9fee0d6-9226-4a79-b865-c9649cbb4ab4",
   "metadata": {},
   "outputs": [],
   "source": [
    "### Importing modules to be used\n",
    "\n",
    "import numpy as np\n",
    "import pandas as pd\n",
    "import seaborn as sns\n",
    "import matplotlib.pyplot as plt\n",
    "%matplotlib inline"
   ]
  },
  {
   "cell_type": "markdown",
   "id": "aa6c6bff-cbb8-4154-a312-dbe087782cae",
   "metadata": {},
   "source": [
    "# Analysis\n",
    "\n",
    "## Treatment of Data\n",
    "\n",
    "1. Converting `view_start_time` and `view_end_time` to datetime format\n",
    "2. Creating the `view_duration_time` the difference between `view_end_time` and `view_start_time`\n",
    "3. "
   ]
  },
  {
   "cell_type": "code",
   "execution_count": 4,
   "id": "f5b3cd31-fe1c-4de3-9263-6e8edd9b25c4",
   "metadata": {},
   "outputs": [],
   "source": [
    "# reading the csv data file\n",
    "df = pd.read_csv('data/data_sample.csv')\n",
    "\n",
    "# transforming the view times and calculating the duration\n",
    "df['view_start_time'] = pd.to_datetime(df['view_start_time'])\n",
    "df['view_end_time'] = pd.to_datetime(df['view_end_time'])\n",
    "df['view_duration'] = df['view_end_time'] - df['view_start_time']\n"
   ]
  },
  {
   "cell_type": "code",
   "execution_count": null,
   "id": "9b12067a-f4b2-4e81-af91-04f28cf4ef94",
   "metadata": {},
   "outputs": [],
   "source": []
  }
 ],
 "metadata": {
  "kernelspec": {
   "display_name": "Python 3 (ipykernel)",
   "language": "python",
   "name": "python3"
  },
  "language_info": {
   "codemirror_mode": {
    "name": "ipython",
    "version": 3
   },
   "file_extension": ".py",
   "mimetype": "text/x-python",
   "name": "python",
   "nbconvert_exporter": "python",
   "pygments_lexer": "ipython3",
   "version": "3.12.7"
  }
 },
 "nbformat": 4,
 "nbformat_minor": 5
}
