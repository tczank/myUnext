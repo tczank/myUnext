{
 "cells": [
  {
   "cell_type": "code",
   "execution_count": null,
   "id": "d49c365e-3e65-4e1a-90e9-25a3ebe4eec3",
   "metadata": {},
   "outputs": [],
   "source": []
  },
  {
   "cell_type": "code",
   "execution_count": 43,
   "id": "f541b91f-0eb8-462c-bcc9-52c85592ecf3",
   "metadata": {},
   "outputs": [],
   "source": [
    "#episode_ids = df['episode_id'].value_counts()\n",
    "#episode_ids.plot(kind = 'bar')\n",
    "#plt.show()\n",
    "\n",
    "# shortened episode ids\n",
    "#max_length = 10 # general shorting\n",
    "#df['short_episode_id'] = df['episode_id'].apply(lambda x: (x[:max_length] + '...' if len(x) > max_length else x))\n",
    "# shortened trailing 0s\n",
    "#df['short_episode_id'] = df['episode_id'].str.replace(r'^ep0+', 'ep', regex = True)\n",
    "\n",
    "\n",
    "#tick_labels = {label: i for i, label in enumerate(short_episode_counts)}\n",
    "\n",
    "\n",
    "\n",
    "#short_episode_counts.plot(kind = 'bar')\n",
    "\n",
    "#for index, value in enumerate(short_episode_counts):\n",
    "#    plt.text(value + 0.1, index, str(value), va='center')\n",
    "\n",
    "\n",
    "# plotting still difficult\n",
    "#plt.xticks(rotation=60, ha='right')\n",
    "#plt.xticks(ticks=range(len(short_episode_counts)), labels=range(len(short_episode_counts)), rotation = 0)\n",
    "\n",
    "#plt.xticks([])\n",
    "\n",
    "#plt.show()"
   ]
  }
 ],
 "metadata": {
  "kernelspec": {
   "display_name": "Python 3 (ipykernel)",
   "language": "python",
   "name": "python3"
  },
  "language_info": {
   "codemirror_mode": {
    "name": "ipython",
    "version": 3
   },
   "file_extension": ".py",
   "mimetype": "text/x-python",
   "name": "python",
   "nbconvert_exporter": "python",
   "pygments_lexer": "ipython3",
   "version": "3.12.7"
  }
 },
 "nbformat": 4,
 "nbformat_minor": 5
}
